{
  "nbformat": 4,
  "nbformat_minor": 0,
  "metadata": {
    "colab": {
      "name": "colaboratory test 1.ipynb",
      "provenance": [],
      "toc_visible": true,
      "include_colab_link": true
    },
    "language_info": {
      "name": "python"
    },
    "kernelspec": {
      "name": "python3",
      "display_name": "Python 3"
    }
  },
  "cells": [
    {
      "cell_type": "markdown",
      "metadata": {
        "id": "view-in-github",
        "colab_type": "text"
      },
      "source": [
        "<a href=\"https://colab.research.google.com/github/muradyan/ml-tests/blob/main/colaboratory_test_1.ipynb\" target=\"_parent\"><img src=\"https://colab.research.google.com/assets/colab-badge.svg\" alt=\"Open In Colab\"/></a>"
      ]
    },
    {
      "cell_type": "code",
      "metadata": {
        "id": "ckvswOMAZm0q",
        "colab": {
          "base_uri": "https://localhost:8080/"
        },
        "outputId": "d316d2e9-522a-422c-a9bc-0ea1ec64f71d"
      },
      "source": [
        "#@title Default title text\n",
        "print(\"hello\")\n"
      ],
      "execution_count": 2,
      "outputs": [
        {
          "output_type": "stream",
          "name": "stdout",
          "text": [
            "hello\n"
          ]
        }
      ]
    },
    {
      "cell_type": "markdown",
      "metadata": {
        "id": "YcFcYD1GgxIv"
      },
      "source": [
        "Ի՞նչպես եք։\n",
        "\n",
        "Այստեղ փոփոխություն եմ արել նոր ռեվիզիայում։"
      ]
    },
    {
      "cell_type": "code",
      "metadata": {
        "id": "wUvOJu_pg1MC"
      },
      "source": [
        ""
      ],
      "execution_count": null,
      "outputs": []
    },
    {
      "cell_type": "markdown",
      "metadata": {
        "id": "ByUdB0aVEnFP"
      },
      "source": [
        "# New Section"
      ]
    },
    {
      "cell_type": "code",
      "metadata": {
        "id": "X12k_zZjEVD-"
      },
      "source": [
        ""
      ],
      "execution_count": null,
      "outputs": []
    }
  ]
}